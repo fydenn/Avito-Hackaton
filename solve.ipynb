{
 "cells": [
  {
   "cell_type": "code",
   "execution_count": 1,
   "id": "4927d6de",
   "metadata": {},
   "outputs": [
    {
     "name": "stderr",
     "output_type": "stream",
     "text": [
      "c:\\Users\\glebp\\AppData\\Local\\Programs\\Python\\Python310\\lib\\site-packages\\tqdm\\auto.py:21: TqdmWarning: IProgress not found. Please update jupyter and ipywidgets. See https://ipywidgets.readthedocs.io/en/stable/user_install.html\n",
      "  from .autonotebook import tqdm as notebook_tqdm\n"
     ]
    }
   ],
   "source": [
    "import os\n",
    "\n",
    "import pandas as pd\n",
    "import numpy as np\n",
    "import polars as pl\n",
    "from datetime import timedelta\n",
    "\n",
    "from scipy.sparse import csr_matrix\n",
    "from scipy.sparse import hstack\n",
    "import hnswlib\n",
    "\n",
    "import pyarrow.parquet as pq\n",
    "\n",
    "from scipy.sparse import csr_matrix\n",
    "import numpy as np\n",
    "\n",
    "from tqdm.auto import tqdm"
   ]
  },
  {
   "cell_type": "code",
   "execution_count": null,
   "id": "4bd106a9",
   "metadata": {},
   "outputs": [],
   "source": [
    "DATA_dir = \"data\"\n",
    "\n",
    "df_click_stream = pd.read_parquet(f\"{DATA_dir}\\clickstream.pq\")\n",
    "df_test_users = pd.read_parquet(f\"{DATA_dir}\\test_users.pq\")\n",
    "df_cat_features = pl.read_parquet(f\"{DATA_dir}\\cat_features.pq\")\n",
    "df_text_features =  pl.read_parquet(f\"{DATA_dir}\\text_features.pq\")\n",
    "df_event = pl.read_parquet(f\"{DATA_dir}\\events.pq\")"
   ]
  },
  {
   "cell_type": "code",
   "execution_count": 205,
   "id": "7187864e",
   "metadata": {},
   "outputs": [],
   "source": [
    "df_click_stream = df_click_stream.drop_duplicates(subset=['cookie', 'item', 'node'])"
   ]
  },
  {
   "cell_type": "markdown",
   "id": "211e4b72",
   "metadata": {},
   "source": [
    "# Feature Extraction"
   ]
  },
  {
   "cell_type": "code",
   "execution_count": null,
   "id": "42fef1f3",
   "metadata": {},
   "outputs": [],
   "source": [
    "#for df_click_stream.event_date\n",
    "df_click_stream['event_date'] = pd.to_datetime(df_click_stream.event_date)\n",
    "datetime = pd.to_datetime(df_click_stream.event_date)\n",
    "\n",
    "df_click_stream['month'] = datetime.dt.month\n",
    "df_click_stream['day'] = datetime.dt.day\n",
    "df_click_stream['hour'] = datetime.dt.hour\n",
    "\n",
    "def to_time_of_day(hour):\n",
    "    if 6 <= hour < 12:\n",
    "        return 'morning'\n",
    "    elif 12 <= hour < 17:\n",
    "        return 'afternoon'\n",
    "    elif 17 <= hour < 22:\n",
    "        return 'evening'\n",
    "    else:\n",
    "        return 'night'\n",
    "    \n",
    "month_to_month = {1:'january', 2:'february'}\n",
    "\n",
    "df_click_stream['time_of_day'] = df_click_stream['hour'].apply(to_time_of_day)\n",
    "df_click_stream['month_of_year'] = df_click_stream['month'].apply(lambda x: month_to_month[x])\n",
    "df_click_stream['cookie'] = df_click_stream['cookie'].astype(int)\n",
    "\n",
    "df_click_stream = df_click_stream.drop(['hour', 'month'], axis=1)    \n",
    "\n",
    "df_click_stream = pd.get_dummies(data = df_click_stream, columns=['time_of_day', 'month_of_year'], dtype=int)"
   ]
  },
  {
   "cell_type": "code",
   "execution_count": 208,
   "id": "0bbf6444",
   "metadata": {},
   "outputs": [],
   "source": [
    "df_cat_features = df_cat_features.join(df_text_features, on='item', how='left').drop(['clean_params'])"
   ]
  },
  {
   "cell_type": "code",
   "execution_count": 209,
   "id": "2cbb378b",
   "metadata": {},
   "outputs": [
    {
     "data": {
      "text/html": [
       "<div><style>\n",
       ".dataframe > thead > tr,\n",
       ".dataframe > tbody > tr {\n",
       "  text-align: right;\n",
       "  white-space: pre-wrap;\n",
       "}\n",
       "</style>\n",
       "<small>shape: (5, 14)</small><table border=\"1\" class=\"dataframe\"><thead><tr><th>cookie</th><th>item</th><th>event</th><th>event_date</th><th>platform</th><th>surface</th><th>node</th><th>day</th><th>time_of_day_afternoon</th><th>time_of_day_evening</th><th>time_of_day_morning</th><th>time_of_day_night</th><th>month_of_year_february</th><th>month_of_year_january</th></tr><tr><td>i64</td><td>i64</td><td>i64</td><td>datetime[ns]</td><td>i64</td><td>i64</td><td>u32</td><td>i32</td><td>i64</td><td>i64</td><td>i64</td><td>i64</td><td>i64</td><td>i64</td></tr></thead><tbody><tr><td>0</td><td>19915558</td><td>17</td><td>2025-02-05 02:30:59</td><td>3</td><td>2</td><td>115659</td><td>5</td><td>0</td><td>0</td><td>0</td><td>1</td><td>1</td><td>0</td></tr><tr><td>0</td><td>2680232</td><td>17</td><td>2025-01-24 21:16:57</td><td>3</td><td>2</td><td>115829</td><td>24</td><td>0</td><td>1</td><td>0</td><td>0</td><td>0</td><td>1</td></tr><tr><td>1</td><td>4247649</td><td>17</td><td>2025-01-29 23:00:58</td><td>2</td><td>2</td><td>7</td><td>29</td><td>0</td><td>0</td><td>0</td><td>1</td><td>0</td><td>1</td></tr><tr><td>1</td><td>2171135</td><td>17</td><td>2025-01-17 19:23:29</td><td>2</td><td>2</td><td>214458</td><td>17</td><td>0</td><td>1</td><td>0</td><td>0</td><td>0</td><td>1</td></tr><tr><td>1</td><td>6830678</td><td>17</td><td>2025-02-09 13:17:03</td><td>2</td><td>2</td><td>15</td><td>9</td><td>1</td><td>0</td><td>0</td><td>0</td><td>1</td><td>0</td></tr></tbody></table></div>"
      ],
      "text/plain": [
       "shape: (5, 14)\n",
       "┌────────┬──────────┬───────┬─────────────┬───┬─────────────┬────────────┬────────────┬────────────┐\n",
       "│ cookie ┆ item     ┆ event ┆ event_date  ┆ … ┆ time_of_day ┆ time_of_da ┆ month_of_y ┆ month_of_y │\n",
       "│ ---    ┆ ---      ┆ ---   ┆ ---         ┆   ┆ _morning    ┆ y_night    ┆ ear_februa ┆ ear_januar │\n",
       "│ i64    ┆ i64      ┆ i64   ┆ datetime[ns ┆   ┆ ---         ┆ ---        ┆ ry         ┆ y          │\n",
       "│        ┆          ┆       ┆ ]           ┆   ┆ i64         ┆ i64        ┆ ---        ┆ ---        │\n",
       "│        ┆          ┆       ┆             ┆   ┆             ┆            ┆ i64        ┆ i64        │\n",
       "╞════════╪══════════╪═══════╪═════════════╪═══╪═════════════╪════════════╪════════════╪════════════╡\n",
       "│ 0      ┆ 19915558 ┆ 17    ┆ 2025-02-05  ┆ … ┆ 0           ┆ 1          ┆ 1          ┆ 0          │\n",
       "│        ┆          ┆       ┆ 02:30:59    ┆   ┆             ┆            ┆            ┆            │\n",
       "│ 0      ┆ 2680232  ┆ 17    ┆ 2025-01-24  ┆ … ┆ 0           ┆ 0          ┆ 0          ┆ 1          │\n",
       "│        ┆          ┆       ┆ 21:16:57    ┆   ┆             ┆            ┆            ┆            │\n",
       "│ 1      ┆ 4247649  ┆ 17    ┆ 2025-01-29  ┆ … ┆ 0           ┆ 1          ┆ 0          ┆ 1          │\n",
       "│        ┆          ┆       ┆ 23:00:58    ┆   ┆             ┆            ┆            ┆            │\n",
       "│ 1      ┆ 2171135  ┆ 17    ┆ 2025-01-17  ┆ … ┆ 0           ┆ 0          ┆ 0          ┆ 1          │\n",
       "│        ┆          ┆       ┆ 19:23:29    ┆   ┆             ┆            ┆            ┆            │\n",
       "│ 1      ┆ 6830678  ┆ 17    ┆ 2025-02-09  ┆ … ┆ 0           ┆ 0          ┆ 1          ┆ 0          │\n",
       "│        ┆          ┆       ┆ 13:17:03    ┆   ┆             ┆            ┆            ┆            │\n",
       "└────────┴──────────┴───────┴─────────────┴───┴─────────────┴────────────┴────────────┴────────────┘"
      ]
     },
     "execution_count": 209,
     "metadata": {},
     "output_type": "execute_result"
    }
   ],
   "source": [
    "df_clickstream = pl.from_pandas(df_click_stream)\n",
    "df_clickstream.head()"
   ]
  },
  {
   "cell_type": "markdown",
   "id": "5bceda52",
   "metadata": {},
   "source": [
    "# PREPARE TRAIN EVAL"
   ]
  },
  {
   "cell_type": "code",
   "execution_count": null,
   "id": "173ebcc6",
   "metadata": {},
   "outputs": [],
   "source": [
    "EVAL_DAYS_TRESHOLD = 14\n",
    "\n",
    "treshhold = df_clickstream['event_date'].max() - timedelta(days=EVAL_DAYS_TRESHOLD)\n",
    "\n",
    "df_train = df_clickstream.filter(df_clickstream['event_date']<= treshhold)\n",
    "df_eval = df_clickstream.filter(df_clickstream['event_date']> treshhold)\n",
    "\n",
    "df_eval = df_eval.join(df_train, on=['cookie', 'node'], how='anti')"
   ]
  },
  {
   "cell_type": "code",
   "execution_count": null,
   "id": "9b189bfc",
   "metadata": {},
   "outputs": [],
   "source": [
    "df_eval = df_eval.filter(\n",
    "    pl.col('event').is_in(df_event.filter(pl.col('is_contact')==1)['event'].unique()))\n",
    "\n",
    "df_train = df_train.filter(\n",
    "    pl.col('event').is_in(df_event.filter(pl.col('is_contact')==1)['event'].unique()))"
   ]
  },
  {
   "cell_type": "code",
   "execution_count": 215,
   "id": "b3a2b400",
   "metadata": {},
   "outputs": [
    {
     "name": "stderr",
     "output_type": "stream",
     "text": [
      "C:\\Users\\glebp\\AppData\\Local\\Temp\\ipykernel_3444\\3923218121.py:1: DeprecationWarning: `is_in` with a collection of the same datatype is ambiguous and deprecated.\n",
      "Please use `implode` to return to previous behavior.\n",
      "\n",
      "See https://github.com/pola-rs/polars/issues/22149 for more information.\n",
      "  df_eval = df_eval.filter(\n",
      "C:\\Users\\glebp\\AppData\\Local\\Temp\\ipykernel_3444\\3923218121.py:3: DeprecationWarning: `is_in` with a collection of the same datatype is ambiguous and deprecated.\n",
      "Please use `implode` to return to previous behavior.\n",
      "\n",
      "See https://github.com/pola-rs/polars/issues/22149 for more information.\n",
      "  ).filter(\n"
     ]
    }
   ],
   "source": [
    "df_eval = df_eval.filter(\n",
    "        pl.col('cookie').is_in(df_train['cookie'].unique())\n",
    "    ).filter(\n",
    "        pl.col('node').is_in(df_train['node'].unique())\n",
    "    )"
   ]
  },
  {
   "cell_type": "code",
   "execution_count": 216,
   "id": "7d53d6cb",
   "metadata": {},
   "outputs": [],
   "source": [
    "df_eval = df_eval.unique(['cookie', 'node'])\n",
    "df_train = df_train.unique(['cookie', 'node'])\n",
    "\n",
    "df_train = df_train.drop(['item','event_date'])\n",
    "df_eval = df_eval.drop(['item','event_date'])"
   ]
  },
  {
   "cell_type": "markdown",
   "id": "018d7917",
   "metadata": {},
   "source": [
    "## Vector Store of Items"
   ]
  },
  {
   "cell_type": "code",
   "execution_count": 221,
   "id": "1bfef47a-d438-4394-b881-8ecf645b0657",
   "metadata": {},
   "outputs": [],
   "source": [
    "a = df_click_stream.groupby('node')['item'].apply(lambda x: x.mode().iloc[0]).reset_index()\n",
    "a = pl.from_pandas(a)\n",
    "a = a.join(df_text_features, on='item', how='left').drop('item')"
   ]
  },
  {
   "cell_type": "code",
   "execution_count": 222,
   "id": "53eb65c2",
   "metadata": {},
   "outputs": [],
   "source": [
    "node2title = {}\n",
    "for i in range(len(a)):\n",
    "    row = a.row(i)\n",
    "    node = row[0]\n",
    "    title_projection = row[1]\n",
    "    node2title[node] = title_projection"
   ]
  },
  {
   "cell_type": "code",
   "execution_count": 223,
   "id": "5791bc80-34b4-4548-881f-8a815d18b776",
   "metadata": {},
   "outputs": [],
   "source": [
    "data = a['title_projection'].to_list()\n",
    "num_elements = len(a)\n",
    "\n",
    "dim = len(data[0])\n",
    "ids = a['node'].to_list()"
   ]
  },
  {
   "cell_type": "code",
   "execution_count": 102,
   "id": "3307d288",
   "metadata": {},
   "outputs": [],
   "source": [
    "p = hnswlib.Index(space = 'l2', dim = dim)\n",
    "\n",
    "p.init_index(max_elements = num_elements, ef_construction = 200, M = 32)\n",
    "p.add_items(data, ids)\n",
    "\n",
    "p.set_ef(400) "
   ]
  },
  {
   "cell_type": "code",
   "execution_count": null,
   "id": "b9f369bc",
   "metadata": {},
   "outputs": [],
   "source": [
    "def get_Top150(query_vec):\n",
    "    candidates, distances = p.knn_query(query_vec, k=150)\n",
    "    return candidates"
   ]
  },
  {
   "cell_type": "code",
   "execution_count": 89,
   "id": "b40cb310",
   "metadata": {},
   "outputs": [],
   "source": [
    "def get_label(cookie, node):\n",
    "    querry_vec = node2title[node]\n",
    "    candidates = get_Top150(querry_vec)[0]\n",
    "    nodes = df_train.filter(pl.col('cookie') == cookie)['node'].to_list()\n",
    "\n",
    "    result = [1 if node in nodes else 0 for node in candidates ]\n",
    "    item_features = [node2title[node] for node in candidates]\n",
    "\n",
    "    return result, item_features"
   ]
  },
  {
   "cell_type": "code",
   "execution_count": 246,
   "id": "59e0a174",
   "metadata": {},
   "outputs": [],
   "source": [
    "def get_features(candidates):\n",
    "    return [node2title[node] for node in candidates]"
   ]
  },
  {
   "cell_type": "markdown",
   "id": "ed01daec",
   "metadata": {},
   "source": [
    "# Model Training"
   ]
  },
  {
   "cell_type": "code",
   "execution_count": 90,
   "id": "a8eda074",
   "metadata": {},
   "outputs": [
    {
     "name": "stdout",
     "output_type": "stream",
     "text": [
      "cuda\n"
     ]
    }
   ],
   "source": [
    "import torch\n",
    "import torch.nn as nn\n",
    "import torch.optim as optim\n",
    "from torch.utils.data import DataLoader, Dataset\n",
    "\n",
    "device = 'cuda' if torch.cuda.is_available() else 'cpu'\n",
    "print(device)"
   ]
  },
  {
   "cell_type": "code",
   "execution_count": 91,
   "id": "76f10c1b",
   "metadata": {},
   "outputs": [],
   "source": [
    "label_item_feat = {}\n",
    "\n",
    "class RunkingDataset(Dataset):\n",
    "    def __init__(self, data):\n",
    "        self.data = data\n",
    "        self.cookie = data['cookie']\n",
    "        self.node = data['node']\n",
    "        \n",
    "\n",
    "        super().__init__()\n",
    "\n",
    "    def __getitem__(self, idx):\n",
    "        name = str(self.cookie[idx])+ str(self.node[idx])\n",
    "\n",
    "        if (label_item_feat.get(name)):\n",
    "            label, item_features = label_item_feat.get(name)\n",
    "        else: \n",
    "            label, item_features = get_label(self.cookie[idx], self.node[idx])\n",
    "            label_item_feat[name] = label, item_features\n",
    "\n",
    "        context_features = self.data.drop('cookie', 'node')\n",
    "\n",
    "        return {\n",
    "            'label': torch.FloatTensor(label).to(device),\n",
    "            'context_features': torch.FloatTensor(context_features.row(idx)).to(device),\n",
    "            'item_features': torch.FloatTensor(item_features).to(device)\n",
    "        }\n",
    "\n",
    "    def __len__(self):\n",
    "        return len(self.cookie)\n"
   ]
  },
  {
   "cell_type": "code",
   "execution_count": 92,
   "id": "80d6b005",
   "metadata": {},
   "outputs": [],
   "source": [
    "train_dataset = RunkingDataset(df_train)\n",
    "eval_dataset = RunkingDataset(df_eval)\n",
    "\n",
    "BATCH_SIZE = 64\n",
    "\n",
    "train_dataloader = DataLoader(\n",
    "    train_dataset, batch_size=BATCH_SIZE, shuffle=True)\n",
    "\n",
    "eval_dataloader = DataLoader(\n",
    "    eval_dataset, batch_size=BATCH_SIZE*2, shuffle=False)"
   ]
  },
  {
   "cell_type": "code",
   "execution_count": 104,
   "id": "e84f951e",
   "metadata": {},
   "outputs": [],
   "source": [
    "def train_one_epoch(model, criterion, optimizer, train_loader, eval_loader):\n",
    "\n",
    "    train_loss = []\n",
    "    for i,batch in enumerate(tqdm(train_loader)):\n",
    "        model.train()\n",
    "        optimizer.zero_grad()\n",
    "        outp = model(batch['item_features'], batch['context_features'])\n",
    "\n",
    "        loss = criterion(outp, batch['label'])\n",
    "        loss.backward()\n",
    "        optimizer.step()\n",
    "        \n",
    "        train_loss.append(loss.item())\n",
    "\n",
    "    epoch_val_loss = []\n",
    "    for i, batch in enumerate(tqdm(eval_loader)):\n",
    "        model.eval()\n",
    "        outp = model(batch['item_features'], batch['context_features'])\n",
    "        loss = criterion(outp, batch['label'])\n",
    "    \n",
    "        epoch_val_loss.append(loss.item())\n",
    "\n",
    "    return model, sum(train_loss)/len(train_loss), sum(epoch_val_loss)/len(epoch_val_loss)\n",
    "\n",
    "def train_model(model, criterion, optimizer, train_loader, eval_loader, num_epochs):\n",
    "    train_losses = []\n",
    "    eval_losses = []\n",
    "\n",
    "    for epoch in range(1,num_epochs+1):\n",
    "        model, train_loss, eval_loss = train_one_epoch(model, criterion, optimizer, train_loader, eval_loader)\n",
    "\n",
    "        train_losses.append(train_loss)\n",
    "        eval_losses.append(eval_loss)\n",
    "\n",
    "        print(f\"Epoch:{epoch}. Train Loss:{train_loss}. Eval Loss:{eval_loss}.\")\n",
    "\n",
    "        model_dir = 'model_epochs'\n",
    "        torch.save(model.state_dict(), os.path.join(model_dir, 'epoch-{}.pth'.format(epoch)))\n",
    "        \n",
    "    return model,train_losses, eval_losses\n"
   ]
  },
  {
   "cell_type": "code",
   "execution_count": 382,
   "id": "7a551ce1",
   "metadata": {},
   "outputs": [],
   "source": [
    "from Model.model import RunkedModel\n",
    "\n",
    "num_item_features = train_dataset[0]['item_features'][0].size(0)\n",
    "num_context_features = train_dataset[0]['context_features'].size(0)\n",
    "\n",
    "model = RunkedModel(num_item_features, num_context_features).to(device)\n",
    "criterion = nn.BCELoss()\n",
    "optimizer = optim.Adam(model.parameters(), lr = 3e-4)"
   ]
  },
  {
   "cell_type": "code",
   "execution_count": 105,
   "id": "dc899d6b",
   "metadata": {},
   "outputs": [
    {
     "name": "stderr",
     "output_type": "stream",
     "text": [
      "100%|██████████| 3185/3185 [09:56<00:00,  5.34it/s]\n",
      "100%|██████████| 287/287 [01:44<00:00,  2.74it/s]\n"
     ]
    },
    {
     "name": "stdout",
     "output_type": "stream",
     "text": [
      "Epoch:1. Train Loss:0.03343945613344386. Eval Loss:0.011534711715963245.\n"
     ]
    },
    {
     "name": "stderr",
     "output_type": "stream",
     "text": [
      "100%|██████████| 3185/3185 [05:41<00:00,  9.31it/s]\n",
      "100%|██████████| 287/287 [00:49<00:00,  5.85it/s]\n"
     ]
    },
    {
     "name": "stdout",
     "output_type": "stream",
     "text": [
      "Epoch:2. Train Loss:0.02434103446669023. Eval Loss:0.01521778904641443.\n"
     ]
    },
    {
     "name": "stderr",
     "output_type": "stream",
     "text": [
      "100%|██████████| 3185/3185 [05:38<00:00,  9.41it/s]\n",
      "100%|██████████| 287/287 [00:47<00:00,  6.07it/s]\n"
     ]
    },
    {
     "name": "stdout",
     "output_type": "stream",
     "text": [
      "Epoch:3. Train Loss:0.021854397782316105. Eval Loss:0.017364910229365586.\n"
     ]
    },
    {
     "name": "stderr",
     "output_type": "stream",
     "text": [
      "100%|██████████| 3185/3185 [05:42<00:00,  9.30it/s]\n",
      "100%|██████████| 287/287 [00:48<00:00,  5.90it/s]\n"
     ]
    },
    {
     "name": "stdout",
     "output_type": "stream",
     "text": [
      "Epoch:4. Train Loss:0.020587481053332614. Eval Loss:0.019300841791263235.\n"
     ]
    },
    {
     "name": "stderr",
     "output_type": "stream",
     "text": [
      "100%|██████████| 3185/3185 [05:41<00:00,  9.31it/s]\n",
      "100%|██████████| 287/287 [00:59<00:00,  4.79it/s]\n"
     ]
    },
    {
     "name": "stdout",
     "output_type": "stream",
     "text": [
      "Epoch:5. Train Loss:0.019894063954930197. Eval Loss:0.01977564213401557.\n"
     ]
    },
    {
     "name": "stderr",
     "output_type": "stream",
     "text": [
      "100%|██████████| 3185/3185 [05:40<00:00,  9.35it/s]\n",
      "100%|██████████| 287/287 [00:58<00:00,  4.90it/s]\n"
     ]
    },
    {
     "name": "stdout",
     "output_type": "stream",
     "text": [
      "Epoch:6. Train Loss:0.019360188961765924. Eval Loss:0.018785832456283867.\n"
     ]
    },
    {
     "name": "stderr",
     "output_type": "stream",
     "text": [
      "100%|██████████| 3185/3185 [05:34<00:00,  9.51it/s]\n",
      "100%|██████████| 287/287 [00:59<00:00,  4.85it/s]\n"
     ]
    },
    {
     "name": "stdout",
     "output_type": "stream",
     "text": [
      "Epoch:7. Train Loss:0.019072352338061788. Eval Loss:0.021852352737549704.\n"
     ]
    },
    {
     "name": "stderr",
     "output_type": "stream",
     "text": [
      "100%|██████████| 3185/3185 [05:41<00:00,  9.32it/s]\n",
      "100%|██████████| 287/287 [00:50<00:00,  5.72it/s]\n"
     ]
    },
    {
     "name": "stdout",
     "output_type": "stream",
     "text": [
      "Epoch:8. Train Loss:0.018819448571459185. Eval Loss:0.020492427615701945.\n"
     ]
    },
    {
     "name": "stderr",
     "output_type": "stream",
     "text": [
      "100%|██████████| 3185/3185 [05:41<00:00,  9.33it/s]\n",
      "100%|██████████| 287/287 [00:53<00:00,  5.40it/s]\n"
     ]
    },
    {
     "name": "stdout",
     "output_type": "stream",
     "text": [
      "Epoch:9. Train Loss:0.01870984558419586. Eval Loss:0.023120239831325485.\n"
     ]
    },
    {
     "name": "stderr",
     "output_type": "stream",
     "text": [
      "100%|██████████| 3185/3185 [05:42<00:00,  9.30it/s]\n",
      "100%|██████████| 287/287 [00:49<00:00,  5.83it/s]"
     ]
    },
    {
     "name": "stdout",
     "output_type": "stream",
     "text": [
      "Epoch:10. Train Loss:0.0183991984556337. Eval Loss:0.022432950555707105.\n"
     ]
    },
    {
     "name": "stderr",
     "output_type": "stream",
     "text": [
      "\n"
     ]
    }
   ],
   "source": [
    "model, train_loss, eval_loss = train_model(model, criterion, optimizer, train_dataloader, eval_dataloader, 10)"
   ]
  },
  {
   "cell_type": "code",
   "execution_count": 106,
   "id": "cb434929",
   "metadata": {},
   "outputs": [],
   "source": [
    "import matplotlib.pyplot as plt\n",
    "import matplotlib.ticker as ticker\n",
    "import seaborn as sns"
   ]
  },
  {
   "cell_type": "code",
   "execution_count": null,
   "id": "30c458d3",
   "metadata": {},
   "outputs": [
    {
     "data": {
      "image/png": "[encoded data removed]",
      "text/plain": [
       "<Figure size 1000x500 with 1 Axes>"
      ]
     },
     "metadata": {},
     "output_type": "display_data"
    }
   ],
   "source": [
    "res_training = pd.DataFrame({'Train': train_loss, 'Test': eval_loss})\n",
    "\n",
    "plt.figure(figsize=(10,5))\n",
    "fig_acc = sns.lineplot(data=res_training, linewidth=2.5)\n",
    "fig_acc.xaxis.set_major_locator(ticker.MultipleLocator(1)) \n",
    "fig_acc.set(xlabel='epoch', ylabel='loss')\n",
    "plt.show()"
   ]
  },
  {
   "cell_type": "code",
   "execution_count": null,
   "id": "08953ec2",
   "metadata": {},
   "outputs": [],
   "source": [
    "def get_preds(model, context, node, k):\n",
    "    candidates = get_Top150(node2title[node])[0]\n",
    "    \n",
    "    item_features = torch.FloatTensor(get_features(candidates)).unsqueeze(0)\n",
    "    context_features = torch.FloatTensor(context).unsqueeze(0)\n",
    "\n",
    "    model.eval()\n",
    "    preds = list(model.to('cpu')(item_features, context_features).argsort()[0])\n",
    "    return [int(candidates[int(idx)]) for idx in preds[-k:]]\n",
    "\n",
    "\n",
    "def recall_at(df_true, model, k=40):\n",
    "\n",
    "    num_in_k = 0\n",
    "    total = 0\n",
    "\n",
    "    for i in range(len(df_true)):\n",
    "        row = df_true[i]\n",
    "\n",
    "        cookie = row['cookie'][0]\n",
    "        node = row['node'][0]\n",
    "        context = row.drop(['cookie', 'node']).row(0)\n",
    "\n",
    "        true_nodes = df_true.filter(pl.col('cookie') == cookie)['node'].to_list()[1:]\n",
    "        preds_nodes = get_preds(model, context, node, k)\n",
    "\n",
    "        for i in (true_nodes):\n",
    "            for j in (preds_nodes):\n",
    "                if i == j:\n",
    "                    num_in_k += 1\n",
    "            total += 1\n",
    "    \n",
    "    return num_in_k/total\n",
    "    "
   ]
  },
  {
   "cell_type": "code",
   "execution_count": null,
   "id": "6f40bb44",
   "metadata": {},
   "outputs": [
    {
     "name": "stdout",
     "output_type": "stream",
     "text": [
      "Recall for 5 epoch: 0.18949955537990316\n",
      "Recall for 6 epoch: 0.19089516846161446\n",
      "Recall for 7 epoch: 0.19133978855844284\n"
     ]
    }
   ],
   "source": [
    "for epoch in range(5, 8):\n",
    "    model.load_state_dict(torch.load(f\"C:\\daata\\gfd\\model_epochs\\epoch-{epoch}.pth\", weights_only=True))\n",
    "    print(f\"Recall for {epoch} epoch: {recall_at(df_eval, model)}\")"
   ]
  }
 ],
 "metadata": {
  "kernelspec": {
   "display_name": "Python 3",
   "language": "python",
   "name": "python3"
  },
  "language_info": {
   "codemirror_mode": {
    "name": "ipython",
    "version": 3
   },
   "file_extension": ".py",
   "mimetype": "text/x-python",
   "name": "python",
   "nbconvert_exporter": "python",
   "pygments_lexer": "ipython3",
   "version": "3.10.10"
  }
 },
 "nbformat": 4,
 "nbformat_minor": 5
}
